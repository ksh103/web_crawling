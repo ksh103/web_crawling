{
 "cells": [
  {
   "cell_type": "code",
   "execution_count": 10,
   "id": "2abbf95e",
   "metadata": {
    "scrolled": true
   },
   "outputs": [
    {
     "name": "stdout",
     "output_type": "stream",
     "text": [
      "한국인이 실리콘밸리에 세운 AI 스타트업 몰로코, 유니콘 등극\n"
     ]
    }
   ],
   "source": [
    "import requests\n",
    "from bs4 import BeautifulSoup\n",
    "\n",
    "res = requests.get('https://www.hankookilbo.com/News/Read/A2021050409270005954')\n",
    "soup = BeautifulSoup(res.content, 'html.parser')\n",
    "\n",
    "mydata = soup.find('title')\n",
    "print(mydata.get_text())"
   ]
  },
  {
   "cell_type": "code",
   "execution_count": 84,
   "id": "d2a025b3",
   "metadata": {},
   "outputs": [
    {
     "name": "stdout",
     "output_type": "stream",
     "text": [
      "['한국인이 미국 실리콘밸리에 세운 인공지능(AI) 분야의 신생기업(스타트업) 몰로코가 1조 원의 기업가치를 인정받아 유니콘 기업이 됐다. 미국서 창업한 한국 AI 업체 중에서는 처음이며, 한국계 스타트업으로는 센드버드, 눔에 이어 세 번째 유니콘 등극이다.']\n",
      "['몰로코는 4일 국민금융그룹의 국민GIB, 스마일게이트인베스트먼트 등 투자자들로부터 10억 달러(약 1조1,185억 원)의 기업 가치를 인정받아 투자를 받았다고 밝혔다. 구체적인 투자액수는 공개하지 않았으나 2,000만 달러(약 224억 원)로 알려졌다.']\n",
      "['안익진 대표가 2013년 팔로알토에서 구글, 트위터, 아마존 출신들과 창업한 이 업체는 AI와 기계학습을 이용해 이용자에게 맞춤형 모바일 광고를 제공하는 솔루션을 개발했다. 구글에서 빅 데이터 분석팀을 이끌었던 안 대표는 유튜브 수익의 핵심인 ‘추천 광고’를 만든 개발자 출신이다. 특히 이 업체가 지난해 9월에 내놓은 ‘몰로코 클라우드’ 솔루션은 기업의 마케팅 담당자가 AI의 도움을 받아 직접 모바일 광고를 운영할 수 있도록 했다.']\n",
      "['몰로코의 솔루션을 이용한 모바일 광고는 558만 개 앱을 통해 매달 전 세계 100억 명 이상에게 130억 회 이상 노출되고 있다. 덕분에 이 업체는 지난 4년간 연 매출이 전년 대비 평균 180% 이상 성장했다. 지난해 매출은 약 2,000억 원으로 알려졌는데 올해 1분기에만 1,000억 원에 이르는 매출을 올리며 스타트업으로는 쉽지 않은 흑자를 내고 있다. 이 업체는 올해 연 매출을 4억 달러(약 4,474억 원)로 예상하고 있다. 이에 삼성벤처스 아메리카, SK텔레콤, 크래프톤 등도 이전에 투자했다.']\n",
      "['미국에 본사를 둔 몰로코는 한국을 포함해 싱가포르, 일본, 영국 등 지사에  170여 명의 직원을 두고 있다. 올해 이 업체는 아시아와 유럽, 북미 등 해외 사업을 빠르게 확장할 예정이다. 삼성벤처스 아메리카 관계자는 “몰로코만큼 방대한 데이터를 기반으로 움직이는 모바일 광고를 잘 제공하는 곳은 없다”고 평가했다.']\n"
     ]
    }
   ],
   "source": [
    "import requests\n",
    "import re\n",
    "from bs4 import BeautifulSoup\n",
    "\n",
    "res = requests.get('https://www.hankookilbo.com/News/Read/A2021050409270005954')\n",
    "soup = BeautifulSoup(res.content, 'html.parser')\n",
    "\n",
    "text_list = soup.find_all('p','editor-p')\n",
    "\n",
    "for i in text_list:\n",
    "    text = i.get_text().replace(\"신한\",\"국민\")\n",
    "    print(text.split(\"\\n\"))\n"
   ]
  },
  {
   "cell_type": "code",
   "execution_count": null,
   "id": "a89ca7bc",
   "metadata": {},
   "outputs": [],
   "source": [
    "import requests\n",
    "import re\n",
    "from bs4 import BeautifulSoup\n",
    "\n",
    "res = requests.get('https://www.hankookilbo.com/News/Read/A2021050409270005954')\n",
    "soup = BeautifulSoup(res.content, 'html.parser')\n",
    "\n",
    "text_list = soup.find_all('p','editor-p')\n",
    "\n",
    "for i in text_list:\n",
    "    text = i.get_text().replace(\"신한\",\"국민\")\n",
    "    print(text.split(\"\\n\"))\n"
   ]
  }
 ],
 "metadata": {
  "kernelspec": {
   "display_name": "Python 3",
   "language": "python",
   "name": "python3"
  },
  "language_info": {
   "codemirror_mode": {
    "name": "ipython",
    "version": 3
   },
   "file_extension": ".py",
   "mimetype": "text/x-python",
   "name": "python",
   "nbconvert_exporter": "python",
   "pygments_lexer": "ipython3",
   "version": "3.8.9"
  }
 },
 "nbformat": 4,
 "nbformat_minor": 5
}

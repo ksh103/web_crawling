{
 "cells": [
  {
   "cell_type": "markdown",
   "id": "83a72682",
   "metadata": {},
   "source": [
    "## 네이버 쇼핑 사이트 크롤링 하기"
   ]
  },
  {
   "cell_type": "code",
   "execution_count": 6,
   "id": "c773a664",
   "metadata": {},
   "outputs": [
    {
     "name": "stdout",
     "output_type": "stream",
     "text": [
      "어버이날 용돈박스\n",
      "면도기\n",
      "카네이션\n",
      "어버이날 선물\n",
      "크록스 키즈\n",
      "닌텐도 스위치\n",
      "마스크\n",
      "크록스\n",
      "에어팟 프로\n",
      "어버이날 카네이션\n"
     ]
    }
   ],
   "source": [
    "import requests\n",
    "from bs4 import BeautifulSoup\n",
    "\n",
    "res = requests.get('https://search.shopping.naver.com/best100v2/main.nhn')\n",
    "soup = BeautifulSoup(res.content, 'html.parser')\n",
    "\n",
    "# #popular_srch_lst - 전체 목록\n",
    "# #popular_srch_lst > li > span.txt - 전체 목록(수정)\n",
    "# #popular_srch_lst > li.on > span.txt - 1위\n",
    "# #popular_srch_lst > li:nth-child(2) > span.txt - 2위\n",
    "# #popular_srch_lst > li:nth-child(3) > span.txt - 3위\n",
    "\n",
    "items = soup.select('#popular_srch_lst > li > span.txt')\n",
    "\n",
    "for item in items:\n",
    "    print(item.get_text())"
   ]
  },
  {
   "cell_type": "code",
   "execution_count": 42,
   "id": "cd156ea8",
   "metadata": {},
   "outputs": [
    {
     "name": "stdout",
     "output_type": "stream",
     "text": [
      "타미힐피거 반팔 티셔츠 남자 여자 면티 T3...\n",
      "캘빈클라인언더웨어 남성 모던코튼 6팩 드로...\n",
      "나이키 남성용 NSW 클럽 조거팬츠 BV2679\n",
      "아디다스 알파바운스 슬라이드 슬리퍼 BA87...\n",
      "몽블랑 사토리얼 반지갑 6cc 113215\n",
      "크록스 크록밴드 클로그 슬리퍼 샌들 크림 ...\n",
      "설화수 자음 2종 세트\n",
      "헤라 블랙 쿠션 15g(SPF34)\n",
      "설화수 탄력 에센셜 3종 세트\n"
     ]
    }
   ],
   "source": [
    "import requests\n",
    "from bs4 import BeautifulSoup\n",
    "\n",
    "site_list = ['https://search.shopping.naver.com/best100v2/detail.nhn?catId=50000000',\n",
    "             'https://search.shopping.naver.com/best100v2/detail.nhn?catId=50000001',\n",
    "             'https://search.shopping.naver.com/best100v2/detail.nhn?catId=50000002']\n",
    "\n",
    "for site in site_list:\n",
    "    res = requests.get(site)\n",
    "    soup = BeautifulSoup(res.content, 'html.parser')\n",
    "    items = soup.select('#productListArea > ul > li > p > a',limit=3)\n",
    "    for item in items:\n",
    "        print(item.get_text())"
   ]
  },
  {
   "cell_type": "markdown",
   "id": "47448366",
   "metadata": {},
   "source": [
    "## 네이버 주식 사이트 크롤링 하기1"
   ]
  },
  {
   "cell_type": "code",
   "execution_count": 87,
   "id": "d4b5ee0e",
   "metadata": {},
   "outputs": [
    {
     "name": "stdout",
     "output_type": "stream",
     "text": [
      " * 지수이름 : HMM  * 현재 주가 지수 :  38,400\n",
      " * 지수이름 : 삼성전자  * 현재 주가 지수 :  82,000\n",
      " * 지수이름 : 삼성중공업  * 현재 주가 지수 :  6,300\n",
      " * 지수이름 : 카카오  * 현재 주가 지수 :  114,000\n",
      " * 지수이름 : 셀트리온  * 현재 주가 지수 :  252,000\n",
      " * 지수이름 : 신풍제약  * 현재 주가 지수 :  62,300\n",
      " * 지수이름 : 금호석유  * 현재 주가 지수 :  287,500\n",
      " * 지수이름 : POSCO  * 현재 주가 지수 :  394,500\n",
      " * 지수이름 : 대한항공  * 현재 주가 지수 :  27,200\n",
      " * 지수이름 : LG전자  * 현재 주가 지수 :  152,000\n"
     ]
    }
   ],
   "source": [
    "import requests\n",
    "from bs4 import BeautifulSoup\n",
    "\n",
    "res = requests.get('https://finance.naver.com/sise/')\n",
    "soup = BeautifulSoup(res.content, 'html.parser')\n",
    "\n",
    "# a 태그이면서 href 속성 값이 특정한 값을 갖는 경우 탐색\n",
    "items = soup.select('#popularItemList > li')\n",
    "\n",
    "for item in items:\n",
    "    print(\" * 지수이름 :\",item.find('a').get_text().strip(),\n",
    "          \" * 현재 주가 지수 : \", item.find('span').get_text().strip())"
   ]
  },
  {
   "cell_type": "markdown",
   "id": "0e6d6e3c",
   "metadata": {},
   "source": [
    "## 네이버 주식 사이트 크롤링 하기2"
   ]
  },
  {
   "cell_type": "code",
   "execution_count": 55,
   "id": "05ee2077",
   "metadata": {},
   "outputs": [
    {
     "name": "stdout",
     "output_type": "stream",
     "text": [
      " * 지수이름 : 다우산업  * 현재 주가 지수 :  34,230.34  * 상승/하락 :  상승\n",
      " * 지수이름 : 나스닥  * 현재 주가 지수 :  13,582.43  * 상승/하락 :  하락\n",
      " * 지수이름 : 홍콩H  * 현재 주가 지수 :  10,721.87  * 상승/하락 :  하락\n",
      " * 지수이름 : 상해종합  * 현재 주가 지수 :  3,446.86  * 상승/하락 :  하락\n",
      " * 지수이름 : 니케이225  * 현재 주가 지수 :  29,337.71  * 상승/하락 :  상승\n"
     ]
    }
   ],
   "source": [
    "import requests\n",
    "from bs4 import BeautifulSoup\n",
    "\n",
    "res = requests.get('https://finance.naver.com/sise/')\n",
    "soup = BeautifulSoup(res.content, 'html.parser')\n",
    "\n",
    "# a 태그이면서 href 속성 값이 특정한 값을 갖는 경우 탐색\n",
    "items = soup.select('div.rgt > ul.lst_major > li')\n",
    "\n",
    "# #contentarea > div.box_top_submain2 > div.rgt > ul.lst_major > li > a\n",
    "# #contentarea > div.box_top_submain2 > div.rgt > ul.lst_major > li:nth-child(1) > span\n",
    "# #contentarea > div.box_top_submain2 > div.rgt > ul.lst_major > li:nth-child(1) > em\n",
    "\n",
    "for item in items:\n",
    "    print(\" * 지수이름 :\",item.find('a').get_text().strip(),\n",
    "          \" * 현재 주가 지수 : \", item.find('span').get_text().strip(),\n",
    "          \" * 상승/하락 : \", item.find('em').get_text().strip())"
   ]
  },
  {
   "cell_type": "markdown",
   "id": "bead6323",
   "metadata": {},
   "source": [
    "## Urillib 라이브러리 사용법"
   ]
  },
  {
   "cell_type": "markdown",
   "id": "263f1b1a",
   "metadata": {},
   "source": [
    "#### requests 라이브러리로 작성한 코드"
   ]
  },
  {
   "cell_type": "code",
   "execution_count": 89,
   "id": "27829bd5",
   "metadata": {},
   "outputs": [
    {
     "name": "stdout",
     "output_type": "stream",
     "text": [
      "상품명: 보몽드 순면스퀘어 솔리드 누빔매트커버, 다크블루\n",
      "상품명: 슈에뜨룸 선인장 리플 침구 세트, 베이지\n",
      "상품명: 선우랜드 레인보우 2단 문걸이용 옷걸이 _중형, 화이트, 상세페이지참조\n",
      "상품명: 보드래 헬로우 누빔 매트리스커버, 핑크\n",
      "상품명: 보드래 퍼펙트 누빔 매트리스커버, 차콜\n",
      "상품명: 피아블 클래식 방수 매트리스커버, 화이트\n",
      "상품명: 더자리 에코항균 마이크로 매트리스커버, 밀키차콜그레이\n",
      "상품명: 더자리 프레쉬 퓨어 매트리스 커버, 퓨어 차콜그레이\n",
      "상품명: 몽쉐어 알러스킨 항균 매트리스 커버, 카키그레이\n",
      "상품명: 쿠팡 브랜드 - 코멧 홈 40수 트윌 순면 100% 홑겹 매트리스커버, 그레이\n",
      "상품명: 패브릭아트 항균 마이크로 원단 매트리스 커버, 아이보리\n",
      "상품명: 바숨 순면 누빔 침대 매트리스커버, 차콜\n",
      "상품명: WEMAX 다용도 문옷걸이, 화이트, 1개\n",
      "상품명: 타카타카 프리미엄 나노 화이바 누빔 매트리스 커버, 젠틀핑핑\n",
      "상품명: 보몽드 순면스퀘어 누빔매트커버, 다크그레이\n",
      "상품명: 보드래 국내산 순면 60수 누빔 매트리스커버, 그레이\n"
     ]
    }
   ],
   "source": [
    "import requests\n",
    "from bs4 import BeautifulSoup\n",
    "\n",
    "res = requests.get('https://davelee-fun.github.io/')\n",
    "soup = BeautifulSoup(res.content, 'html.parser')\n",
    "\n",
    "data = soup.select('h4.card-text')\n",
    "\n",
    "for item in data:\n",
    "    print(item.get_text().strip())"
   ]
  },
  {
   "cell_type": "markdown",
   "id": "94d937c3",
   "metadata": {},
   "source": [
    "#### urillib 라이브러리로 작성한 코드"
   ]
  },
  {
   "cell_type": "code",
   "execution_count": 92,
   "id": "525f0595",
   "metadata": {},
   "outputs": [
    {
     "name": "stdout",
     "output_type": "stream",
     "text": [
      "상품명: 보몽드 순면스퀘어 솔리드 누빔매트커버, 다크블루\n",
      "상품명: 슈에뜨룸 선인장 리플 침구 세트, 베이지\n",
      "상품명: 선우랜드 레인보우 2단 문걸이용 옷걸이 _중형, 화이트, 상세페이지참조\n",
      "상품명: 보드래 헬로우 누빔 매트리스커버, 핑크\n",
      "상품명: 보드래 퍼펙트 누빔 매트리스커버, 차콜\n",
      "상품명: 피아블 클래식 방수 매트리스커버, 화이트\n",
      "상품명: 더자리 에코항균 마이크로 매트리스커버, 밀키차콜그레이\n",
      "상품명: 더자리 프레쉬 퓨어 매트리스 커버, 퓨어 차콜그레이\n",
      "상품명: 몽쉐어 알러스킨 항균 매트리스 커버, 카키그레이\n",
      "상품명: 쿠팡 브랜드 - 코멧 홈 40수 트윌 순면 100% 홑겹 매트리스커버, 그레이\n",
      "상품명: 패브릭아트 항균 마이크로 원단 매트리스 커버, 아이보리\n",
      "상품명: 바숨 순면 누빔 침대 매트리스커버, 차콜\n",
      "상품명: WEMAX 다용도 문옷걸이, 화이트, 1개\n",
      "상품명: 타카타카 프리미엄 나노 화이바 누빔 매트리스 커버, 젠틀핑핑\n",
      "상품명: 보몽드 순면스퀘어 누빔매트커버, 다크그레이\n",
      "상품명: 보드래 국내산 순면 60수 누빔 매트리스커버, 그레이\n"
     ]
    }
   ],
   "source": [
    "from urllib.request import urlopen\n",
    "from bs4 import BeautifulSoup\n",
    "\n",
    "res = urlopen('https://davelee-fun.github.io/')\n",
    "soup = BeautifulSoup(res, 'html.parser')\n",
    "\n",
    "data = soup.select('h4.card-text')\n",
    "\n",
    "for item in data:\n",
    "    print(item.get_text().strip())"
   ]
  },
  {
   "cell_type": "markdown",
   "id": "034ec779",
   "metadata": {},
   "source": [
    "## HTTP response code"
   ]
  },
  {
   "cell_type": "markdown",
   "id": "def9772d",
   "metadata": {},
   "source": [
    "HTTP라는 프로토콜 규격에 따라서 응답 데이터에 응답 코드(response code)를 넣어서 보내게 됨\n",
    "\n",
    "* requests 라이브러리의 경우, requests.get()의 리턴변수 .status_code 에서 응답 코드를 확인할 수 있음\n",
    "\n",
    "* HTTP 규격에 따라 응답 코드가 200인 경우는 정상 응답, 그렇지 않으면 무언가 문제가 있다는 뜻.\n",
    "[HTTP 상태 코드](https://ko.wikipedia.org/wiki/HTTP_%EC%83%81%ED%83%9C_%EC%BD%94%EB%93%9C)\n",
    "\n",
    "  "
   ]
  },
  {
   "cell_type": "code",
   "execution_count": 94,
   "id": "886f8643",
   "metadata": {},
   "outputs": [
    {
     "name": "stdout",
     "output_type": "stream",
     "text": [
      "페이지 없음\n"
     ]
    }
   ],
   "source": [
    "import requests\n",
    "from bs4 import BeautifulSoup\n",
    "\n",
    "res = requests.get('https://davelee-fun.github.io/xxx')\n",
    "if res.status_code != 200:\n",
    "    print(\"페이지 없음\")\n",
    "else:\n",
    "    soup = BeautifulSoup(res.content, 'html.parser')\n",
    "    data = soup.selet('h4.card-text')\n",
    "    for item in data:\n",
    "        print(item.get_text())"
   ]
  },
  {
   "cell_type": "markdown",
   "id": "5dd4222b",
   "metadata": {},
   "source": [
    "## 여러 페이지 한번에 크롤링하는 기법"
   ]
  },
  {
   "cell_type": "code",
   "execution_count": 97,
   "id": "a1cee7ef",
   "metadata": {},
   "outputs": [
    {
     "name": "stdout",
     "output_type": "stream",
     "text": [
      "상품명: 보몽드 순면스퀘어 솔리드 누빔매트커버, 다크블루\n",
      "상품명: 슈에뜨룸 선인장 리플 침구 세트, 베이지\n",
      "상품명: 선우랜드 레인보우 2단 문걸이용 옷걸이 _중형, 화이트, 상세페이지참조\n",
      "상품명: 보드래 헬로우 누빔 매트리스커버, 핑크\n",
      "상품명: 보드래 퍼펙트 누빔 매트리스커버, 차콜\n",
      "상품명: 피아블 클래식 방수 매트리스커버, 화이트\n",
      "상품명: 더자리 에코항균 마이크로 매트리스커버, 밀키차콜그레이\n",
      "상품명: 더자리 프레쉬 퓨어 매트리스 커버, 퓨어 차콜그레이\n",
      "상품명: 몽쉐어 알러스킨 항균 매트리스 커버, 카키그레이\n",
      "상품명: 쿠팡 브랜드 - 코멧 홈 40수 트윌 순면 100% 홑겹 매트리스커버, 그레이\n",
      "상품명: 패브릭아트 항균 마이크로 원단 매트리스 커버, 아이보리\n",
      "상품명: 바숨 순면 누빔 침대 매트리스커버, 차콜\n",
      "상품명: WEMAX 다용도 문옷걸이, 화이트, 1개\n",
      "상품명: 타카타카 프리미엄 나노 화이바 누빔 매트리스 커버, 젠틀핑핑\n",
      "상품명: 보몽드 순면스퀘어 누빔매트커버, 다크그레이\n",
      "상품명: 보드래 국내산 순면 60수 누빔 매트리스커버, 그레이\n",
      "상품명: 보드래 퍼펙트 누빔 매트리스커버, 베이지핑크\n",
      "상품명: 쿠팡 브랜드 - 코멧 홈 40수 순면 누빔 매트리스커버, 챠콜\n",
      "상품명: 바숨 순면 누빔 침대 매트리스커버, 화이트\n",
      "상품명: 프랑떼 항균 방수 매트리스커버, 화이트\n",
      "상품명: 보몽드 순면스퀘어 솔리드 누빔매트커버, 다크블루\n",
      "상품명: 네이쳐리빙 피아블 클래식 방수 매트리스커버, 그레이\n",
      "상품명: 쿠팡 브랜드 - 코멧 홈 순면 매트리스커버, 베이지\n",
      "상품명: 타카타카 프리미엄 나노 화이바 누빔 매트리스 커버, 프렌치불독\n",
      "상품명: 더자리 에코항균 마이크로 매트리스커버, 밀키그레이\n",
      "상품명: 보몽드 순면스퀘어 누빔매트커버, 화이트\n",
      "상품명: 피아블 클래식 방수 매트리스커버, 화이트\n",
      "상품명: 쿠팡 브랜드 - 코멧 홈 순면 매트리스커버, 차콜그레이\n",
      "상품명: 쉬즈홈 모던그리드 순면 여름이불 베개커버 패드세트, 핑크\n",
      "상품명: 스코홈 빅리플 여름 차렵이불패드 3종 세트, 마린그레이\n",
      "상품명: 아망떼 시어서커 리플 홑이불 패드세트, 웨이크\n",
      "상품명: 마이센스 무더운 여름엔 시어서커 여름이불 패드 베개 이불세트 30종, 시어서커_파스텔그레이\n",
      "상품명: 믹스앤매치 로라 프릴 시어서커 침구세트, 그레이\n",
      "상품명: 에피소드1 샤베트 프릴 시어서커 여름이불패드세트, 그레이\n",
      "상품명: 슈에뜨룸 선인장 리플 침구 세트, 베이지\n",
      "상품명: 아망떼 시어서커 리플 홑이불 패드세트, 허브티\n",
      "상품명: 지베딩 아이스베어 시어서커 여름침구 풀세트, 민트그레이\n",
      "상품명: 쁘리엘르 테스 시어서커 여름이불 패드세트, 그레이\n",
      "상품명: 쉬즈홈 시어서커 홑이불 + 토퍼 + 베개커버 세트, 나나 옐로우\n",
      "상품명: 아망떼 시어서커 리플 퀼팅 이불패드세트, 리엔나\n",
      "상품명: 바자르 트로피컬 인견 여름 이불세트 인견이불 + 베개커버 2p + 인견패드, 그린\n",
      "상품명: 바자르 라이닝 혼방 인견 여름 이불베개세트 + 패드 Q, 쿨 네이비\n",
      "상품명: 슈에뜨룸 비숑 피치스킨 침구세트, 그레이\n",
      "상품명: 스코홈 시어서커 여름 이불 패드 3종 세트, 차콜\n",
      "상품명: 스코홈 어번시리즈 순면 차렵이불 누빔 매트커버세트 S 차콜\n",
      "상품명: 쉬즈홈 루즈 시어서커 차렵이불 패드세트, 그레이\n",
      "상품명: 예가로드 메리엘 시어서커 누비이불 패드세트, 블루\n",
      "상품명: 에피소드1 샤베트 프릴 시어서커 여름이불패드세트, 화이트\n",
      "상품명: 쉬즈홈 플루 시어서커 차렵이불 패드세트, 그린\n",
      "상품명: 메종 레이스 차렵 이불 세트, 블루\n",
      "상품명: 믹스앤매치 로라 프릴 시어서커 침구세트, 그린\n",
      "상품명: 슈에뜨룸 발그레 피치 리플 침구 세트, 혼합 색상\n",
      "상품명: 보몽드 메종 레이스 차렵이불 3종 세트, 민트\n",
      "상품명: 슈에뜨룸 체크 피치스킨 침구세트, 모카\n",
      "상품명: 메리엘 시어서커 에어리플 이불세트, 그레이\n",
      "상품명: 슈에뜨룸 빠삐용 시어서커 침구세트, 네이비\n",
      "상품명: 믹스앤매치 에이프릴 리플 누비이불 패드세트, 화이트\n",
      "상품명: 쉬즈홈 시어서커 홑이불 토퍼세트, 루즈 그레이\n",
      "상품명: 이코디 5단 엔틱 도어 행거, 브라운, 1개\n",
      "상품명: 선우랜드 우드볼 도어훅 4구, 실버, 1개\n",
      "상품명: 리은상점 다용도 도어훅 문걸이 행거 모자걸이 머플러 목도리 걸이, 화이트, 5개\n",
      "상품명: 퍼니스코 다용도걸이 모자걸이 가방걸이 도어훅 도어행거 문걸이, 엔틱브라운, 1세트\n",
      "상품명: 스텐 도어후크 옷걸이/도어훅 문옷걸이 행거 바지걸이, 혼합 색상, 1개\n",
      "상품명: 디비플러스 키펙스 컬러 폭조절 오버 도어훅, 블랙, 1개\n",
      "상품명: 리빙스토리 1+1 문에 거는 문 옷걸이 음자리 도어후크 방문 행거, 음자리도어후크-로즈골드, 2개\n",
      "상품명: 나이스후크 도어행거 2개 세트 (문행거), 블랙+화이트\n",
      "상품명: 리빙파이 도어훅 옷걸이 행거 7구, 블랙, 1개\n",
      "상품명: 선우랜드 우드볼 도어훅 10구, 실버, 1개\n",
      "상품명: 웰렉스 도어행거 MH1060 신형 본사직발송 미니건조대 도어옷걸이 도어훅, 고동색, 1개\n",
      "상품명: 엔비 엔틱 7구 도어훅 옷걸이, 도어훅 1+1, 1+1\n",
      "상품명: 코시나 무타공 문걸이 후크선반 1단, 화이트, 1개\n",
      "상품명: 코시나 무타공 올스텐 문걸이행거, 혼합 색상, 1개\n",
      "상품명: [아트박스 POOM/이케아] ENUDDEN 도어 행거, 본품, 수량\n",
      "상품명: 비스비바 우드 폴 다용도걸이 3구, 혼합 색상, 1개\n",
      "상품명: 숲속애 웨이브 도어후크 5구, 블랙, 1개\n",
      "상품명: 펀타스틱 다용도 문틀걸이, 화이트, 1개\n",
      "상품명: 선우랜드 우드볼 도어훅 4구, 화이트, 1개\n",
      "상품명: 네이쳐리빙 어반모카 와이어 도어훅 옷걸이 6구, 단일 색상, 1개\n",
      "상품명: 까사마루 블랑 접이식 문걸이 건조대, 1개\n",
      "상품명: 선우랜드 우드볼 도어훅 6구, 실버, 1개\n",
      "상품명: 이케아 ENUDDEN 문걸이 행거 402.516.66, 화이트, 1개\n",
      "상품명: 선우랜드 우드볼 도어훅 10구, 화이트, 1개\n",
      "상품명: 코멧 홈 우드볼 도어행거, 6구, 혼합색상\n",
      "상품명: 선우랜드 레인보우 2단 문걸이용 옷걸이 _중형, 화이트, 상세페이지참조\n",
      "상품명: 코시나 무타공 문걸이 후크선반 2단, 화이트, 1개\n",
      "상품명: 스파이더락 도어후크 8구, 화이트, 1개\n",
      "상품명: 선우랜드 우드볼 도어훅 6구, 화이트, 1개\n",
      "상품명: 코멧 홈 우드볼 도어행거, 10구, 혼합색상\n",
      "상품명: 보드래 헬로우 누빔 매트리스커버, 핑크\n",
      "상품명: 보몽드 순면스퀘어 솔리드 누빔매트커버, 아이보리\n",
      "상품명: 더자리 에코항균 마이크로 매트리스커버, 밀키핑크\n",
      "상품명: 타카타카 프리미엄 나노 화이바 누빔 매트리스 커버, 미스밍고\n",
      "상품명: 네이쳐리빙 피아블 클래식 방수 매트리스커버, 그레이\n",
      "상품명: 프로텍트어베드 베이직 매트리스 방수커버, 그레이\n"
     ]
    }
   ],
   "source": [
    "import requests\n",
    "from bs4 import BeautifulSoup\n",
    "\n",
    "for page_num in range(10):\n",
    "    if page_num == 0:\n",
    "        res = requests.get('https://davelee-fun.github.io/')\n",
    "    else:\n",
    "        res = requests.get('https://davelee-fun.github.io/page' + str(page_num + 1))\n",
    "    soup = BeautifulSoup(res.content, 'html.parser')\n",
    "    \n",
    "    data = soup.select('h4.card-text')\n",
    "    for item in data:\n",
    "        print(item.get_text().strip())"
   ]
  },
  {
   "cell_type": "markdown",
   "id": "1c5a44ec",
   "metadata": {},
   "source": [
    "## 크롤링해서 엑셀 파일로 데이터 저장"
   ]
  },
  {
   "cell_type": "markdown",
   "id": "5167c9f5",
   "metadata": {},
   "source": [
    "#### 크롤링해서 엑셀 파일까지 만들기\n",
    "\n",
    "* 함수로 작성해보면서, 함수 작성법과 활용법 이해하기"
   ]
  },
  {
   "cell_type": "code",
   "execution_count": 125,
   "id": "6372e1d2",
   "metadata": {},
   "outputs": [],
   "source": [
    "import openpyxl\n",
    "\n",
    "def write_excel_template(filename, sheetname, listdata):\n",
    "    excel_file = openpyxl.Workbook()\n",
    "    excel_sheet = excel_file.active\n",
    "    excel_sheet.column_dimensions['A'].width = 100\n",
    "    excel_sheet.column_dimensions['B'].width = 20\n",
    "    \n",
    "    if sheetname != '':\n",
    "        excel_sheet.title = sheetname\n",
    "    for item in listdata:\n",
    "        excel_sheet.append(item)\n",
    "    excel_file.save(filename)\n",
    "    excel_file.close()"
   ]
  },
  {
   "cell_type": "markdown",
   "id": "854a42f1",
   "metadata": {},
   "source": [
    "#### 크롤링해서 엑셀 파일까지 만들기\n",
    "\n",
    "* 리스트 안에 리스트(각 행을 나타냄)가 들어가야 함"
   ]
  },
  {
   "cell_type": "code",
   "execution_count": 126,
   "id": "7d7c9188",
   "metadata": {},
   "outputs": [],
   "source": [
    "import requests\n",
    "from bs4 import BeautifulSoup\n",
    "\n",
    "product_lists = list()\n",
    "\n",
    "for page_num in range(10):\n",
    "    if page_num == 0:\n",
    "        res = requests.get('https://davelee-fun.github.io/')\n",
    "    else:\n",
    "        res = requests.get('https://davelee-fun.github.io/page' + str(page_num + 1))\n",
    "    soup = BeautifulSoup(res.content, 'html.parser')\n",
    "    \n",
    "    data = soup.select('div.card')\n",
    "    for item in data:\n",
    "        product_name = item.select_one('div.card-body h4.card-text')\n",
    "        product_date = item.select_one('div.wrapfooter span.post-date')\n",
    "        product_info = [product_name.get_text().strip(), product_date.get_text()]\n",
    "        product_lists.append(product_info)"
   ]
  },
  {
   "cell_type": "markdown",
   "id": "13578bef",
   "metadata": {},
   "source": [
    "#### 엑셀 파일 저장"
   ]
  },
  {
   "cell_type": "code",
   "execution_count": 127,
   "id": "18ed3c76",
   "metadata": {},
   "outputs": [],
   "source": [
    "write_excel_template('tmp.xlsx', '상품정보', product_lists)"
   ]
  },
  {
   "cell_type": "markdown",
   "id": "c57153eb",
   "metadata": {},
   "source": [
    "#### 엑셀 파일 읽기"
   ]
  },
  {
   "cell_type": "code",
   "execution_count": 132,
   "id": "66a5ed80",
   "metadata": {},
   "outputs": [],
   "source": [
    "import openpyxl\n",
    "\n",
    "# 엑셀 파일 오픈(load_workbook() 함수)\n",
    "excel_file = openpyxl.load_workbook('tmp.xlsx')\n",
    "\n",
    "# 해당 엑셀 파일 안에 있는 시트 이름 확인하기\n",
    "excel_file.sheetnames # 시트 이름 확인(리스트 타입으로 리턴됨)\n",
    "\n",
    "# 해당 엑셀 파일 안에 있는 특정 시트 선택하기\n",
    "excel_sheet = excel_file[\"상품정보\"]"
   ]
  },
  {
   "cell_type": "markdown",
   "id": "f9bb7389",
   "metadata": {},
   "source": [
    "시트 안에 있는 데이터 읽기\n",
    "\n",
    "* item 에는 한 라인의 각 셀에 있는 데이터를 가져옴\n",
    "* 각 데이터는 각 리스트 아이템의 value 변수로부터 실제 데이터를 가져올 수 있음"
   ]
  },
  {
   "cell_type": "code",
   "execution_count": 134,
   "id": "4fd9664f",
   "metadata": {
    "scrolled": false
   },
   "outputs": [
    {
     "name": "stdout",
     "output_type": "stream",
     "text": [
      "상품명: 보몽드 순면스퀘어 솔리드 누빔매트커버, 다크블루 05 Jun 2020\n",
      "상품명: 슈에뜨룸 선인장 리플 침구 세트, 베이지 05 Jun 2020\n",
      "상품명: 선우랜드 레인보우 2단 문걸이용 옷걸이 _중형, 화이트, 상세페이지참조 05 Jun 2020\n",
      "상품명: 보드래 헬로우 누빔 매트리스커버, 핑크 05 Jun 2020\n",
      "상품명: 보드래 퍼펙트 누빔 매트리스커버, 차콜 05 Jun 2020\n",
      "상품명: 피아블 클래식 방수 매트리스커버, 화이트 05 Jun 2020\n",
      "상품명: 더자리 에코항균 마이크로 매트리스커버, 밀키차콜그레이 05 Jun 2020\n",
      "상품명: 더자리 프레쉬 퓨어 매트리스 커버, 퓨어 차콜그레이 05 Jun 2020\n",
      "상품명: 몽쉐어 알러스킨 항균 매트리스 커버, 카키그레이 05 Jun 2020\n",
      "상품명: 쿠팡 브랜드 - 코멧 홈 40수 트윌 순면 100% 홑겹 매트리스커버, 그레이 05 Jun 2020\n",
      "상품명: 패브릭아트 항균 마이크로 원단 매트리스 커버, 아이보리 05 Jun 2020\n",
      "상품명: 바숨 순면 누빔 침대 매트리스커버, 차콜 05 Jun 2020\n",
      "상품명: WEMAX 다용도 문옷걸이, 화이트, 1개 05 Jun 2020\n",
      "상품명: 타카타카 프리미엄 나노 화이바 누빔 매트리스 커버, 젠틀핑핑 05 Jun 2020\n",
      "상품명: 보몽드 순면스퀘어 누빔매트커버, 다크그레이 05 Jun 2020\n",
      "상품명: 보드래 국내산 순면 60수 누빔 매트리스커버, 그레이 05 Jun 2020\n",
      "상품명: 보드래 퍼펙트 누빔 매트리스커버, 베이지핑크 05 Jun 2020\n",
      "상품명: 쿠팡 브랜드 - 코멧 홈 40수 순면 누빔 매트리스커버, 챠콜 05 Jun 2020\n",
      "상품명: 바숨 순면 누빔 침대 매트리스커버, 화이트 05 Jun 2020\n",
      "상품명: 프랑떼 항균 방수 매트리스커버, 화이트 05 Jun 2020\n",
      "상품명: 보몽드 순면스퀘어 솔리드 누빔매트커버, 다크블루 05 Jun 2020\n",
      "상품명: 네이쳐리빙 피아블 클래식 방수 매트리스커버, 그레이 05 Jun 2020\n",
      "상품명: 쿠팡 브랜드 - 코멧 홈 순면 매트리스커버, 베이지 05 Jun 2020\n",
      "상품명: 타카타카 프리미엄 나노 화이바 누빔 매트리스 커버, 프렌치불독 05 Jun 2020\n",
      "상품명: 더자리 에코항균 마이크로 매트리스커버, 밀키그레이 05 Jun 2020\n",
      "상품명: 보몽드 순면스퀘어 누빔매트커버, 화이트 05 Jun 2020\n",
      "상품명: 피아블 클래식 방수 매트리스커버, 화이트 05 Jun 2020\n",
      "상품명: 쿠팡 브랜드 - 코멧 홈 순면 매트리스커버, 차콜그레이 05 Jun 2020\n",
      "상품명: 쉬즈홈 모던그리드 순면 여름이불 베개커버 패드세트, 핑크 05 Jun 2020\n",
      "상품명: 스코홈 빅리플 여름 차렵이불패드 3종 세트, 마린그레이 05 Jun 2020\n",
      "상품명: 아망떼 시어서커 리플 홑이불 패드세트, 웨이크 05 Jun 2020\n",
      "상품명: 마이센스 무더운 여름엔 시어서커 여름이불 패드 베개 이불세트 30종, 시어서커_파스텔그레이 05 Jun 2020\n",
      "상품명: 믹스앤매치 로라 프릴 시어서커 침구세트, 그레이 05 Jun 2020\n",
      "상품명: 에피소드1 샤베트 프릴 시어서커 여름이불패드세트, 그레이 05 Jun 2020\n",
      "상품명: 슈에뜨룸 선인장 리플 침구 세트, 베이지 05 Jun 2020\n",
      "상품명: 아망떼 시어서커 리플 홑이불 패드세트, 허브티 05 Jun 2020\n",
      "상품명: 지베딩 아이스베어 시어서커 여름침구 풀세트, 민트그레이 05 Jun 2020\n",
      "상품명: 쁘리엘르 테스 시어서커 여름이불 패드세트, 그레이 05 Jun 2020\n",
      "상품명: 쉬즈홈 시어서커 홑이불 + 토퍼 + 베개커버 세트, 나나 옐로우 05 Jun 2020\n",
      "상품명: 아망떼 시어서커 리플 퀼팅 이불패드세트, 리엔나 05 Jun 2020\n",
      "상품명: 바자르 트로피컬 인견 여름 이불세트 인견이불 + 베개커버 2p + 인견패드, 그린 05 Jun 2020\n",
      "상품명: 바자르 라이닝 혼방 인견 여름 이불베개세트 + 패드 Q, 쿨 네이비 05 Jun 2020\n",
      "상품명: 슈에뜨룸 비숑 피치스킨 침구세트, 그레이 05 Jun 2020\n",
      "상품명: 스코홈 시어서커 여름 이불 패드 3종 세트, 차콜 05 Jun 2020\n",
      "상품명: 스코홈 어번시리즈 순면 차렵이불 누빔 매트커버세트 S 차콜 05 Jun 2020\n",
      "상품명: 쉬즈홈 루즈 시어서커 차렵이불 패드세트, 그레이 05 Jun 2020\n",
      "상품명: 예가로드 메리엘 시어서커 누비이불 패드세트, 블루 05 Jun 2020\n",
      "상품명: 에피소드1 샤베트 프릴 시어서커 여름이불패드세트, 화이트 05 Jun 2020\n",
      "상품명: 쉬즈홈 플루 시어서커 차렵이불 패드세트, 그린 05 Jun 2020\n",
      "상품명: 메종 레이스 차렵 이불 세트, 블루 05 Jun 2020\n",
      "상품명: 믹스앤매치 로라 프릴 시어서커 침구세트, 그린 05 Jun 2020\n",
      "상품명: 슈에뜨룸 발그레 피치 리플 침구 세트, 혼합 색상 05 Jun 2020\n",
      "상품명: 보몽드 메종 레이스 차렵이불 3종 세트, 민트 05 Jun 2020\n",
      "상품명: 슈에뜨룸 체크 피치스킨 침구세트, 모카 05 Jun 2020\n",
      "상품명: 메리엘 시어서커 에어리플 이불세트, 그레이 05 Jun 2020\n",
      "상품명: 슈에뜨룸 빠삐용 시어서커 침구세트, 네이비 05 Jun 2020\n",
      "상품명: 믹스앤매치 에이프릴 리플 누비이불 패드세트, 화이트 05 Jun 2020\n",
      "상품명: 쉬즈홈 시어서커 홑이불 토퍼세트, 루즈 그레이 05 Jun 2020\n",
      "상품명: 이코디 5단 엔틱 도어 행거, 브라운, 1개 05 Jun 2020\n",
      "상품명: 선우랜드 우드볼 도어훅 4구, 실버, 1개 05 Jun 2020\n",
      "상품명: 리은상점 다용도 도어훅 문걸이 행거 모자걸이 머플러 목도리 걸이, 화이트, 5개 05 Jun 2020\n",
      "상품명: 퍼니스코 다용도걸이 모자걸이 가방걸이 도어훅 도어행거 문걸이, 엔틱브라운, 1세트 05 Jun 2020\n",
      "상품명: 스텐 도어후크 옷걸이/도어훅 문옷걸이 행거 바지걸이, 혼합 색상, 1개 05 Jun 2020\n",
      "상품명: 디비플러스 키펙스 컬러 폭조절 오버 도어훅, 블랙, 1개 05 Jun 2020\n",
      "상품명: 리빙스토리 1+1 문에 거는 문 옷걸이 음자리 도어후크 방문 행거, 음자리도어후크-로즈골드, 2개 05 Jun 2020\n",
      "상품명: 나이스후크 도어행거 2개 세트 (문행거), 블랙+화이트 05 Jun 2020\n",
      "상품명: 리빙파이 도어훅 옷걸이 행거 7구, 블랙, 1개 05 Jun 2020\n",
      "상품명: 선우랜드 우드볼 도어훅 10구, 실버, 1개 05 Jun 2020\n",
      "상품명: 웰렉스 도어행거 MH1060 신형 본사직발송 미니건조대 도어옷걸이 도어훅, 고동색, 1개 05 Jun 2020\n",
      "상품명: 엔비 엔틱 7구 도어훅 옷걸이, 도어훅 1+1, 1+1 05 Jun 2020\n",
      "상품명: 코시나 무타공 문걸이 후크선반 1단, 화이트, 1개 05 Jun 2020\n",
      "상품명: 코시나 무타공 올스텐 문걸이행거, 혼합 색상, 1개 05 Jun 2020\n",
      "상품명: [아트박스 POOM/이케아] ENUDDEN 도어 행거, 본품, 수량 05 Jun 2020\n",
      "상품명: 비스비바 우드 폴 다용도걸이 3구, 혼합 색상, 1개 05 Jun 2020\n",
      "상품명: 숲속애 웨이브 도어후크 5구, 블랙, 1개 05 Jun 2020\n",
      "상품명: 펀타스틱 다용도 문틀걸이, 화이트, 1개 05 Jun 2020\n",
      "상품명: 선우랜드 우드볼 도어훅 4구, 화이트, 1개 05 Jun 2020\n",
      "상품명: 네이쳐리빙 어반모카 와이어 도어훅 옷걸이 6구, 단일 색상, 1개 05 Jun 2020\n",
      "상품명: 까사마루 블랑 접이식 문걸이 건조대, 1개 05 Jun 2020\n",
      "상품명: 선우랜드 우드볼 도어훅 6구, 실버, 1개 05 Jun 2020\n",
      "상품명: 이케아 ENUDDEN 문걸이 행거 402.516.66, 화이트, 1개 05 Jun 2020\n",
      "상품명: 선우랜드 우드볼 도어훅 10구, 화이트, 1개 05 Jun 2020\n",
      "상품명: 코멧 홈 우드볼 도어행거, 6구, 혼합색상 05 Jun 2020\n",
      "상품명: 선우랜드 레인보우 2단 문걸이용 옷걸이 _중형, 화이트, 상세페이지참조 05 Jun 2020\n",
      "상품명: 코시나 무타공 문걸이 후크선반 2단, 화이트, 1개 05 Jun 2020\n",
      "상품명: 스파이더락 도어후크 8구, 화이트, 1개 05 Jun 2020\n",
      "상품명: 선우랜드 우드볼 도어훅 6구, 화이트, 1개 05 Jun 2020\n",
      "상품명: 코멧 홈 우드볼 도어행거, 10구, 혼합색상 05 Jun 2020\n",
      "상품명: 보드래 헬로우 누빔 매트리스커버, 핑크 05 Jun 2020\n",
      "상품명: 보몽드 순면스퀘어 솔리드 누빔매트커버, 아이보리 05 Jun 2020\n",
      "상품명: 더자리 에코항균 마이크로 매트리스커버, 밀키핑크 05 Jun 2020\n",
      "상품명: 타카타카 프리미엄 나노 화이바 누빔 매트리스 커버, 미스밍고 05 Jun 2020\n",
      "상품명: 네이쳐리빙 피아블 클래식 방수 매트리스커버, 그레이 05 Jun 2020\n",
      "상품명: 프로텍트어베드 베이직 매트리스 방수커버, 그레이 05 Jun 2020\n"
     ]
    }
   ],
   "source": [
    "for item in excel_sheet.rows:\n",
    "    print(item[0].value, item[1].value)"
   ]
  },
  {
   "cell_type": "code",
   "execution_count": null,
   "id": "3af71e94",
   "metadata": {},
   "outputs": [],
   "source": []
  }
 ],
 "metadata": {
  "kernelspec": {
   "display_name": "Python 3",
   "language": "python",
   "name": "python3"
  },
  "language_info": {
   "codemirror_mode": {
    "name": "ipython",
    "version": 3
   },
   "file_extension": ".py",
   "mimetype": "text/x-python",
   "name": "python",
   "nbconvert_exporter": "python",
   "pygments_lexer": "ipython3",
   "version": "3.8.9"
  }
 },
 "nbformat": 4,
 "nbformat_minor": 5
}
